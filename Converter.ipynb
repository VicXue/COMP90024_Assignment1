{
 "cells": [
  {
   "cell_type": "code",
   "execution_count": null,
   "id": "1be5c7f0",
   "metadata": {},
   "outputs": [],
   "source": [
    "# transform sal.json\n",
    "import json\n",
    "\n",
    "with open('./sal.json', 'r') as f:\n",
    "  data = json.load(f)\n",
    "\n",
    "sal = {key:value[\"gcc\"] for (key,value) in data.items()}\n",
    "#print(sal)"
   ]
  },
  {
   "cell_type": "code",
   "execution_count": null,
   "id": "0bf53932",
   "metadata": {},
   "outputs": [],
   "source": [
    "set(sal.values())"
   ]
  },
  {
   "cell_type": "code",
   "execution_count": null,
   "id": "a5a783e7",
   "metadata": {},
   "outputs": [],
   "source": [
    "# load test_1.json\n",
    "with open('./test_1.json', 'r', encoding='UTF-8') as f:\n",
    "  t1_data = json.load(f)\n",
    "\n",
    "print(t1_data)"
   ]
  },
  {
   "cell_type": "code",
   "execution_count": null,
   "id": "1d705cb4",
   "metadata": {},
   "outputs": [],
   "source": [
    "# load test_2.json\n",
    "with open('./test_2.json', 'r', encoding='UTF-8') as f:\n",
    "  t2_data = json.load(f)\n",
    "\n",
    "print(t2_data)"
   ]
  },
  {
   "cell_type": "code",
   "execution_count": null,
   "id": "08fe117e",
   "metadata": {},
   "outputs": [],
   "source": [
    "from thefuzz import fuzz\n",
    "from thefuzz import process\n",
    "\n",
    "# Get geoinfo (with comma, get the first bit; without comma, check with full text)\n",
    "# Check against \n",
    "\n",
    "def get_prob(data, geo_data):\n",
    "    m_key = \"\"\n",
    "    m_prob = 0\n",
    "    m_val = \"\"\n",
    "    geo_info = data[\"includes\"][\"places\"][0][\"full_name\"].lower().split(\",\", 1)[0]\n",
    "    #print(geo_info)\n",
    "    \n",
    "    if geo_info == \"australia\":\n",
    "        print(geo_info)\n",
    "        print(\"\", 0, \"\")\n",
    "    \n",
    "    \n",
    "    for key, val in geo_data.items():\n",
    "        if geo_info in key: \n",
    "            # check if the val is different to the m_val. if so, determine which one is more accurate with the full geo_info\n",
    "            if m_val and m_val != val:\n",
    "                print(geo_info)\n",
    "                print(\"    GCC changed\")\n",
    "                print(m_key, m_prob, geo_data.get(m_key))\n",
    "            cur_prob = fuzz.ratio(key, geo_info)\n",
    "            if m_prob < cur_prob:\n",
    "                m_prob = cur_prob\n",
    "                m_key = key\n",
    "                m_val = val\n",
    "    #print(m_key, m_prob, geo_data.get(m_key))\n",
    "\n",
    "get_prob(t1_data, sal)\n",
    "\n",
    "get_prob(t2_data, sal)"
   ]
  },
  {
   "cell_type": "code",
   "execution_count": null,
   "id": "7f76bd33",
   "metadata": {},
   "outputs": [],
   "source": [
    "with open('./twitter-data-small.json', 'r', encoding='UTF-8') as f:\n",
    "  full_data = json.load(f)\n",
    "\n",
    "location_set = set()\n",
    "for data in full_data:\n",
    "    location_set.add(data[\"includes\"][\"places\"][0][\"full_name\"])\n",
    "    get_prob(data, sal)\n",
    "    \n"
   ]
  },
  {
   "cell_type": "code",
   "execution_count": null,
   "id": "a7247306",
   "metadata": {},
   "outputs": [],
   "source": [
    "# full_name\": \"sydney\n",
    "# , sydney\n",
    "location_set"
   ]
  },
  {
   "cell_type": "markdown",
   "id": "3a9eef23",
   "metadata": {},
   "source": [
    "### Geo Location Scenarios \n",
    "1. One word: 'Murwillumbah', 'Australia'   \n",
    "    Check them straightaway; Ignore Australia\n",
    "2. Two words:  Split it and get the first bit and the second bit  \n",
    "2.1. Two words - Starts with State: 'Victoria, Australia', 'South Australia, Australia',\n",
    "    Check the second bit, if it's Australia, ignore it\n",
    "    \n",
    "2.2. Two words - Starts with GCC: 'Sydney, New South Wales'\n",
    "    Check the first bit with a pre-defined dictionary for GCCs, if hit, return; if not carry on.\n",
    "\n",
    "3.3. Two words - Starts with suburb: 'Picton, New South Wales', 'Rockhampton, Queensland'\n",
    "    Check if the first bit belongs to any suburb. If not, ignore.\n",
    "    If mathches with one suburb, return;\n",
    "    If matches with multiple,\n",
    "        check if there is an exact match, if so, return it\n",
    "        check if all suburbs have the same gcc values, if so, check if the gcc is of any GCC. \n",
    "            If so, return; if not, ignore.\n",
    "        If not, try to use the second bit to determine where it is from. \n",
    "            convert the second bit to abb. e.g. New South Wales should be matched to nsw, Queensland should be matched to qld\n",
    "            Check if the abb is in the suburb name or gcc.\n",
    "                If get one match, return it\n",
    "                If get multiple matches, flag it\n",
    "                If get no match at all, ignore it"
   ]
  },
  {
   "cell_type": "code",
   "execution_count": null,
   "id": "e2f263d5",
   "metadata": {},
   "outputs": [],
   "source": [
    "dict_t = {\"vvv\": (1, 2), \"ggg\": (1,1), \"bbb\": (5,1), \"aaa\": (11,3)}\n",
    "sorted_dict = sorted(dict_t.items(), key=lambda x: (-x[1][0], -x[1][1]))\n",
    "print(sorted_dict)"
   ]
  },
  {
   "cell_type": "code",
   "execution_count": null,
   "id": "5ee88377",
   "metadata": {},
   "outputs": [],
   "source": [
    "import json\n",
    "sal_file = open('./sal.json')\n",
    "sal = json.load(sal_file)\n",
    "\n",
    "\n",
    "def get_place_code(sal):\n",
    "    place_code_lst = [[] for i in range(7)]\n",
    "\n",
    "    for (key, value) in sal.items():\n",
    "        code = value.get(\"gcc\")\n",
    "\n",
    "        if code[1] == 'g':\n",
    "            index = int(value.get(\"ste\"))\n",
    "            place_code_lst[index - 1].append({key: code})\n",
    "\n",
    "    # for i in range(7):\n",
    "    #     print(place_code_lst[i])\n",
    "    #     print(\"\\n\")\n",
    "\n",
    "    return place_code_lst\n",
    "\n",
    "get_place_code(sal)"
   ]
  },
  {
   "cell_type": "code",
   "execution_count": null,
   "id": "65bf52f3",
   "metadata": {},
   "outputs": [],
   "source": [
    "import numpy as np\n",
    "import pandas as pd\n",
    "\n",
    "def sum(a, b):\n",
    "    return a+b\n",
    "\n",
    "def sum_all(*args):\n",
    "    count = 0\n",
    "    for arg in args:\n",
    "        count += arg\n",
    "    return count\n",
    "\n",
    "author_list = [f\"author_{i}\" for i in range(10)]\n",
    "# print(author_list)\n",
    "np_array = np.random.binomial(n=10, p=0.2, size=(10,2))\n",
    "df = pd.DataFrame(np_array, index= pd.Index(author_list, name=\"Authors:\"), columns=pd.Index(['1gsyd', '2gmelb'], name='GGC:'))\n",
    "\n",
    "df\n",
    "# print(df[0])\n",
    "# print(df[1])\n"
   ]
  },
  {
   "cell_type": "code",
   "execution_count": null,
   "id": "d44959c4",
   "metadata": {},
   "outputs": [],
   "source": [
    "print(\"#Twitter pre Author\")\n",
    "# np.vectorize(sum_all)(df[\"1gsyd\"],df[\"2gmelb\"])\n",
    "%timeit np.vectorize(sum_all)(df[\"1gsyd\"],df[\"2gmelb\"])"
   ]
  },
  {
   "cell_type": "code",
   "execution_count": null,
   "id": "13a05b74",
   "metadata": {},
   "outputs": [],
   "source": [
    "# Preferred approach\n",
    "\n",
    "print(\"#Twitter pre Author\")\n",
    "# np.sum(np_array, axis=0)\n",
    "%timeit np.sum(np_array, axis=0)"
   ]
  },
  {
   "cell_type": "code",
   "execution_count": null,
   "id": "89ff63a5",
   "metadata": {},
   "outputs": [],
   "source": [
    "print(\"#Twitter pre Author\")\n",
    "np.sum(np_array, axis=1)\n",
    "# %timeit np.sum(np_array, axis=0)"
   ]
  },
  {
   "cell_type": "code",
   "execution_count": null,
   "id": "1cdda811",
   "metadata": {},
   "outputs": [],
   "source": [
    "print(\"#Twitter pre Author\")\n",
    "# t_df.sum()\n",
    "%timeit t_df.sum()"
   ]
  },
  {
   "cell_type": "code",
   "execution_count": null,
   "id": "dd26c446",
   "metadata": {},
   "outputs": [],
   "source": [
    "t_df = df.T\n",
    "print(\"#Twitter pre GCC\")\n",
    "print(t_df)\n",
    "out = np.vectorize(sum_all)(t_df[\"author_0\"],t_df[\"author_1\"],t_df[\"author_2\"], t_df[\"author_3\"])\n",
    "print(out)\n",
    "# %timeit np.vectorize(sum)(df[\"1gsyd\"],df[\"2gmelb\"])"
   ]
  },
  {
   "cell_type": "code",
   "execution_count": null,
   "id": "e34ee9eb",
   "metadata": {},
   "outputs": [],
   "source": [
    "%timeit np.power(df[0] + df[1],1)"
   ]
  }
 ],
 "metadata": {
  "kernelspec": {
   "display_name": "Python 3 (ipykernel)",
   "language": "python",
   "name": "python3"
  },
  "language_info": {
   "codemirror_mode": {
    "name": "ipython",
    "version": 3
   },
   "file_extension": ".py",
   "mimetype": "text/x-python",
   "name": "python",
   "nbconvert_exporter": "python",
   "pygments_lexer": "ipython3",
   "version": "3.9.7"
  }
 },
 "nbformat": 4,
 "nbformat_minor": 5
}
